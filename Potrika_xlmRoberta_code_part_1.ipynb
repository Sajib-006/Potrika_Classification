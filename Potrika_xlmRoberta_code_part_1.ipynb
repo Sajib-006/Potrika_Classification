{
  "cells": [
    {
      "cell_type": "markdown",
      "metadata": {
        "id": "0w1tzj3KJ_p-"
      },
      "source": [
        "Connect to drive"
      ]
    },
    {
      "cell_type": "code",
      "execution_count": null,
      "metadata": {
        "id": "2b6PLLbiJQRO",
        "colab": {
          "base_uri": "https://localhost:8080/"
        },
        "outputId": "e151e6aa-1fa9-4dd7-975d-594976b704bd"
      },
      "outputs": [
        {
          "output_type": "stream",
          "name": "stdout",
          "text": [
            "Mounted at /root/gdrive\n"
          ]
        }
      ],
      "source": [
        "from google.colab import drive\n",
        "drive.mount('/root/gdrive', force_remount=True)"
      ]
    },
    {
      "cell_type": "code",
      "execution_count": null,
      "metadata": {
        "colab": {
          "base_uri": "https://localhost:8080/"
        },
        "id": "DvtWS5k6Jf7l",
        "outputId": "0b0fb3ef-4bce-4166-afa6-24058d03b797"
      },
      "outputs": [
        {
          "output_type": "stream",
          "name": "stdout",
          "text": [
            "/root/gdrive/MyDrive/Potrika\n"
          ]
        }
      ],
      "source": [
        "%cd /root/gdrive/MyDrive/Potrika"
      ]
    },
    {
      "cell_type": "code",
      "source": [
        "!ls"
      ],
      "metadata": {
        "colab": {
          "base_uri": "https://localhost:8080/"
        },
        "id": "KrB_p6nkQtp3",
        "outputId": "1eb76d70-95d8-4f06-c997-7eb5acd997d8"
      },
      "execution_count": null,
      "outputs": [
        {
          "output_type": "stream",
          "name": "stdout",
          "text": [
            "make_data.py  potrika_20000.csv  potrika_30000.csv\n"
          ]
        }
      ]
    },
    {
      "cell_type": "markdown",
      "metadata": {
        "id": "XgwZ6OwIUFKn"
      },
      "source": [
        "Import libraries"
      ]
    },
    {
      "cell_type": "code",
      "execution_count": null,
      "metadata": {
        "id": "GOe6R7zdUAE3"
      },
      "outputs": [],
      "source": [
        "import numpy as np\n",
        "import pandas as pd\n",
        "import matplotlib.pyplot as plt"
      ]
    },
    {
      "cell_type": "markdown",
      "metadata": {
        "id": "JVyC6X1yKHdQ"
      },
      "source": [
        "Load data"
      ]
    },
    {
      "cell_type": "code",
      "source": [
        "import csv\n",
        "data = []\n",
        "with open('potrika_20000.csv', encoding='utf-8') as csv_file:\n",
        "    csv_reader = csv.reader(csv_file, delimiter=',')\n",
        "    for row in csv_reader:\n",
        "      data.append(row)\n",
        "print(data[0])"
      ],
      "metadata": {
        "colab": {
          "base_uri": "https://localhost:8080/"
        },
        "id": "kRdNMObFL80t",
        "outputId": "023b5e51-cddc-49a9-d2d1-020c0dc57ecd"
      },
      "execution_count": null,
      "outputs": [
        {
          "output_type": "stream",
          "name": "stdout",
          "text": [
            "['সাভারের কবিরপুর বাণিজ্যিক এলাকার নিজস্ব ফ্যাক্টরিতে হয়ে গেল ইউনিটেক প্রডাক্টস (বিডি) লিঃ এর দিনব্যাপী সেলস কনফারেন্স। কনফারেন্সটি অনুষ্ঠিত হয় শনিবার, ১১ই মার্চ, সারা দেশ থেকে প্রায় ৩১০ জন ডিলার এই কনফারেন্সটিতে অংশগ্রহণ করেন এবং ইউনিটেকর ফ্যাক্টরি ঘুরে দেখার সুযোগ পান।এসময় ইউনিটেকর ব্যবস্থাপনা পরিচালক, ইঞ্জি: আনিস আহমেদ ডিলারদের উদ্দেশে বক্তব্য রাখেন এবং ইউনিটেক কে বাংলাদেশের সেরা ইলেক্ট্রনিক ব্র্যান্ড হিসেবে গড়ে তোলার আশ্বাস ব্যক্ত করেন। ইঞ্জি: আনিস আহমেদ, জাতীয় এবং বিভাগীয় পর্যায়ে সেরা ডিলারদের হাতে সার্টিফিকেট, ক্রেস্ট ও প্রাইজ বন্ড তুলে দেন। বিজয়ীরা হলেন রুপালি ইলেক্ট্রনিক্স (জাতীয় সেরা), লিয়া এন্টারপ্রাইজ (দ্বিতীয় জাতীয় সেরা), মদিনা ইলেক্ট্রনিক্স (তৃতীয় জাতীয় সেরা), সুন্দরবন ইলেক্ট্রনিক্স (ঢাকা বিভাগ), আলাউদ্দিন ইলেক্ট্রনিক্স (চিটাগং বিভাগ), শান্ত ইলেক্ট্রনিক্স (রাজশাহী রংপুর বিভাগ), নুরুল এন্টারপ্রাইজ (খুলনা বিভাগ), ফেয়ার ভিউ ইলেক্ট্রনিক্স (বরিশাল বিভাগ) ও ফিডব্যাক কমিউনিকেসন (সিলেট বিভাগ)। কনফারেন্সটিতে আরও বক্তব্য রাখেন ইউনিটেকের বিজনেস ডেভেলপমেন্ট অ্যান্ড প্ল্যানিং ম্যানেজার এ কে এম হামিদুর রহমান, সেলস অ্যান্ড ডেভেলপমেন্ট ম্যানেজার এ টি এম আখতার হোসেন ও ইউনিটেকের সেলস ম্যানেজার ডিলার চ্যানেল জাকির হোসেন। -প্রেস বিজ্ঞপ্তি', 'Economy']\n"
          ]
        }
      ]
    },
    {
      "cell_type": "markdown",
      "metadata": {
        "id": "E1M1FGvdRcHd"
      },
      "source": [
        "Visualize data"
      ]
    },
    {
      "cell_type": "code",
      "execution_count": null,
      "metadata": {
        "colab": {
          "base_uri": "https://localhost:8080/"
        },
        "id": "gf2Rj6GsRJRb",
        "outputId": "519a599f-85ed-4550-ff5b-91d01a5fb1d9"
      },
      "outputs": [
        {
          "output_type": "stream",
          "name": "stdout",
          "text": [
            "Total Rows: 20000\n",
            "Total Cols: 2\n"
          ]
        }
      ],
      "source": [
        "print(\"Total Rows:\", len(data))\n",
        "print(\"Total Cols:\", len(data[500]))"
      ]
    },
    {
      "cell_type": "markdown",
      "metadata": {
        "id": "2Ams1_bKM3oP"
      },
      "source": [
        "Show all category"
      ]
    },
    {
      "cell_type": "code",
      "execution_count": null,
      "metadata": {
        "colab": {
          "base_uri": "https://localhost:8080/"
        },
        "id": "DBtpDjXVJ2QS",
        "outputId": "47ea2f08-dc77-46aa-e6aa-06fcf27dc52e"
      },
      "outputs": [
        {
          "output_type": "stream",
          "name": "stdout",
          "text": [
            "{'', 'Politics', ' এটি উল্টো পথে গেল। আবারো ভুল এপ্রোচ। সরকার এমন একটি প্রতিষ্ঠান যার কথা নাগরিক এবং মিডিয়া মানতে বাধ্য। কাজেই', 'National', 'Science_Technology', ' তথ্য অধিকার আইন আসার আগেও আমাদের সাংবাদিকরা অনুসন্ধানী প্রতিবেদন করতে পেরেছেন। তখন অফিশিয়াল সিক্রেট আইন বাধা হয়ে দাঁড়ায়নি।', ' যেটি শুধু কলোনির দেশগুলোতেই নয় খোদ ইংল্যান্ডেই প্রচলন করা হয়েছিল। এবং এই আইনটি ইংল্যান্ডে এখনো আছে (কিছু পরিবর্তনসহ)।', ' সর্বশেষ আইসিসি ওয়ার্ল্ড র\\u200c্যাঙ্কিং', 'Economy', 'International', ' যা শুধুমাত্র সাইবার জগতেই সম্ভব এবং বিদ্যমান পেনাল কোড্ বা অন্যান্য আইনে সে ব্যাপারে আগে কোনোকিছু সংজ্ঞায়িত করা হয় নি।এর ফলে একই অপরাধে দুই রকমের শাস্তির মত সমস্যা থেকে দূরে সরে থাকতে পেরেছে।\\xa0', ' ডিজিটাল সিকিউরিটি শব্দটিকে সংগায়িত করে এই সিকিউরিটিকে নিশ্চিতকরণের যে লক্ষ্য আইনটিতে উল্লেখ আছে সে লক্ষ্য অর্জন করার প্রয়োজনীয় বিধানগুলো আগে বর্ণিত উপায়ে যুক্ত করা।\\xa0', 'Education', ' ম্যালওয়ার ইত্যাদি)। আবার কিছু কিছু অপরাধ এখনো এই আইনে আসেনি কিন্তু সাইবার ক্রাইম হিসেবে খুবই পরিচিত (ফিশিং', ' কথায় কথায় আমরা ব্রিটিশ আমলের আইনকানুনের নাম তুলে সমালোচনা করি। আইনের মেরিট-ডিমেরিট নিয়ে কথা বলি কম।', \" ৩২ ধারাও ডিজিটাল সিকিউরিটি আইনে না রাখলেও চলবে। অফিশিয়াল সিক্রেট অ্যাক্টে 'ডিজিটাল উপায়ে' শব্দটি সংযুক্ত করলে সরকারেরও লাভ হবে।\", 'Entertainment', 'Sports'}\n",
            "18\n"
          ]
        }
      ],
      "source": [
        "all_categories = set([sample[1] for sample in data])\n",
        "print(all_categories)\n",
        "print(len(all_categories))"
      ]
    },
    {
      "cell_type": "markdown",
      "metadata": {
        "id": "6gsvlmxdsHK0"
      },
      "source": [
        "Prepare data X, Y"
      ]
    },
    {
      "cell_type": "code",
      "execution_count": null,
      "metadata": {
        "colab": {
          "base_uri": "https://localhost:8080/"
        },
        "id": "eeM7wizepzDf",
        "outputId": "86ac703d-0a1f-44d0-c6e2-ad73a2bf4a1b"
      },
      "outputs": [
        {
          "name": "stdout",
          "output_type": "stream",
          "text": [
            "16792 16792\n"
          ]
        }
      ],
      "source": [
        "x_text = []\n",
        "y_label = []\n",
        "\n",
        "for row in data:\n",
        "  y_label.append(row[1])\n",
        "  x_text.append(row[0])\n",
        "print(len(x_text),len(y_label))"
      ]
    },
    {
      "cell_type": "markdown",
      "metadata": {
        "id": "in7FQnWsOyKM"
      },
      "source": [
        "Split data into Train & test set"
      ]
    },
    {
      "cell_type": "code",
      "execution_count": null,
      "metadata": {
        "id": "nrf2WY8HbPaP"
      },
      "outputs": [],
      "source": [
        "from sklearn.model_selection import train_test_split\n",
        "X_train, X_test, y_train, y_test = train_test_split(x_text,y_label, stratify=y_label)"
      ]
    }
  ],
  "metadata": {
    "accelerator": "GPU",
    "colab": {
      "collapsed_sections": [],
      "name": "Potrika_xlmRoberta-code part-1.ipynb",
      "provenance": []
    },
    "kernelspec": {
      "display_name": "Python 3",
      "name": "python3"
    },
    "language_info": {
      "name": "python"
    }
  },
  "nbformat": 4,
  "nbformat_minor": 0
}